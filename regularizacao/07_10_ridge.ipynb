{
 "cells": [
  {
   "cell_type": "markdown",
   "id": "b4c9f87a",
   "metadata": {},
   "source": [
    "Enzo Gabriel é um estagiário na empresa _XYZ corporate SA_. Certo dia, foi solicitado a Enzo um modelo linear para prever o valor de um novo produto da marca com base em certas características de outros produtos.\n",
    "\n",
    "Enzo, então, aplicou os conhecimentos obtidos na aula do professor Ayres e resolveu a equação normal para encontrar os coeficientes da regressão linear com base nos dados fornecidos."
   ]
  },
  {
   "cell_type": "code",
   "execution_count": 1,
   "id": "36ba59ce",
   "metadata": {},
   "outputs": [
    {
     "name": "stdout",
     "output_type": "stream",
     "text": [
      "Matriz X (com coluna de 1s):\n",
      " [[1.  1.  2. ]\n",
      " [1.  2.  3.5]\n",
      " [1.  3.  5. ]\n",
      " [1.  4.  7. ]]\n",
      "\n",
      "Vetor y: [ 9. 14. 19. 25.]\n"
     ]
    }
   ],
   "source": [
    "import numpy as np\n",
    "\n",
    "# Matrix de features (X)\n",
    "X = np.array([\n",
    "    [1,  2],\n",
    "    [2, 3.5],\n",
    "    [3,  5],\n",
    "    [4,  7]\n",
    "], dtype=float)\n",
    "\n",
    "# Vetor target (y)\n",
    "y = np.array([9, 14, 19, 25], dtype=float)\n",
    "\n",
    "# Adiciona a coluna de 1s (intercepto)\n",
    "ones = np.ones((X.shape[0], 1))\n",
    "X_ones = np.concatenate((ones, X), axis=1)\n",
    "\n",
    "print(\"Matriz X (com coluna de 1s):\\n\", X_ones)\n",
    "print(\"\\nVetor y:\", y)"
   ]
  },
  {
   "cell_type": "code",
   "execution_count": 2,
   "id": "547702e3",
   "metadata": {},
   "outputs": [
    {
     "name": "stdout",
     "output_type": "stream",
     "text": [
      "\n",
      "Coeficientes (w0, w1, w2): [3. 2. 2.]\n"
     ]
    }
   ],
   "source": [
    "# Encontrar os coeficientes da regressão linear usando a equação normal\n",
    "X_T = X_ones.transpose()\n",
    "XTX = np.matmul(X_T, X_ones)\n",
    "XTy = np.matmul(X_T, y)\n",
    "\n",
    "inv_XTX = np.linalg.inv(XTX)\n",
    "theta = np.matmul(inv_XTX, XTy)\n",
    "print(\"\\nCoeficientes (w0, w1, w2):\", theta)"
   ]
  },
  {
   "cell_type": "markdown",
   "id": "663ce08a",
   "metadata": {},
   "source": [
    "Ele, então, aferiu seus resultados usando o modelo LinearRegression do sklearn."
   ]
  },
  {
   "cell_type": "code",
   "execution_count": 3,
   "id": "d8720bb0",
   "metadata": {},
   "outputs": [
    {
     "name": "stdout",
     "output_type": "stream",
     "text": [
      "\n",
      "Coeficientes (w0, w1, w2): [3. 2. 2.]\n"
     ]
    }
   ],
   "source": [
    "# Usando sklearn\n",
    "from sklearn.linear_model import LinearRegression\n",
    "model = LinearRegression(fit_intercept=False)\n",
    "model.fit(X_ones, y) \n",
    "print(\"\\nCoeficientes (w0, w1, w2):\", ( model.coef_))"
   ]
  },
  {
   "cell_type": "markdown",
   "id": "c1aeed9e",
   "metadata": {},
   "source": [
    "No outro dia, Félix, o gato de Enzo Gabriel, subiu no teclado de seu computador e acidentalmente clonou uma das colunas da matriz de features."
   ]
  },
  {
   "cell_type": "code",
   "execution_count": 4,
   "id": "0a03b15e",
   "metadata": {},
   "outputs": [
    {
     "name": "stdout",
     "output_type": "stream",
     "text": [
      "Matriz X (com coluna de 1s):\n",
      " [[1.  1.  2.  1. ]\n",
      " [1.  2.  3.5 2. ]\n",
      " [1.  3.  5.  3. ]\n",
      " [1.  4.  7.  4. ]]\n",
      "\n",
      "Vetor y: [ 9. 14. 19. 25.]\n"
     ]
    }
   ],
   "source": [
    "# Matrix de features (X)\n",
    "X = np.array([\n",
    "    [1,  2,  1],\n",
    "    [2, 3.5, 2],\n",
    "    [3,  5,  3],\n",
    "    [4,  7,  4]\n",
    "], dtype=float)\n",
    "\n",
    "# Vetor target (y)\n",
    "y = np.array([9, 14, 19, 25], dtype=float)\n",
    "\n",
    "# Adiciona a coluna de 1s (intercepto)\n",
    "ones = np.ones((X.shape[0], 1))\n",
    "X_ones = np.concatenate((ones, X), axis=1)\n",
    "\n",
    "print(\"Matriz X (com coluna de 1s):\\n\", X_ones)\n",
    "print(\"\\nVetor y:\", y)"
   ]
  },
  {
   "cell_type": "markdown",
   "id": "186712da",
   "metadata": {},
   "source": [
    "Desapercebido da situação, Enzo pensou que a nova coluna tratava-se apenas de uma nova feature adicionada por algum colega da empresa.\n",
    "\n",
    "Assim, decidiu encontrar os coeficientes da mesma maneira que antes."
   ]
  },
  {
   "cell_type": "code",
   "execution_count": 5,
   "id": "68b100ce",
   "metadata": {},
   "outputs": [
    {
     "ename": "LinAlgError",
     "evalue": "Singular matrix",
     "output_type": "error",
     "traceback": [
      "\u001b[0;31m---------------------------------------------------------------------------\u001b[0m",
      "\u001b[0;31mLinAlgError\u001b[0m                               Traceback (most recent call last)",
      "Cell \u001b[0;32mIn[5], line 6\u001b[0m\n\u001b[1;32m      3\u001b[0m XTX \u001b[38;5;241m=\u001b[39m np\u001b[38;5;241m.\u001b[39mmatmul(X_T, X_ones)\n\u001b[1;32m      4\u001b[0m XTy \u001b[38;5;241m=\u001b[39m np\u001b[38;5;241m.\u001b[39mmatmul(X_T, y)\n\u001b[0;32m----> 6\u001b[0m inv_XTX \u001b[38;5;241m=\u001b[39m \u001b[43mnp\u001b[49m\u001b[38;5;241;43m.\u001b[39;49m\u001b[43mlinalg\u001b[49m\u001b[38;5;241;43m.\u001b[39;49m\u001b[43minv\u001b[49m\u001b[43m(\u001b[49m\u001b[43mXTX\u001b[49m\u001b[43m)\u001b[49m\n\u001b[1;32m      7\u001b[0m theta \u001b[38;5;241m=\u001b[39m np\u001b[38;5;241m.\u001b[39mmatmul(inv_XTX, XTy)\n\u001b[1;32m      8\u001b[0m \u001b[38;5;28mprint\u001b[39m(\u001b[38;5;124m\"\u001b[39m\u001b[38;5;130;01m\\n\u001b[39;00m\u001b[38;5;124mCoeficientes (w0, w1, w2, w3):\u001b[39m\u001b[38;5;124m\"\u001b[39m, theta)\n",
      "File \u001b[0;32m~/.local/lib/python3.10/site-packages/numpy/linalg/_linalg.py:608\u001b[0m, in \u001b[0;36minv\u001b[0;34m(a)\u001b[0m\n\u001b[1;32m    605\u001b[0m signature \u001b[38;5;241m=\u001b[39m \u001b[38;5;124m'\u001b[39m\u001b[38;5;124mD->D\u001b[39m\u001b[38;5;124m'\u001b[39m \u001b[38;5;28;01mif\u001b[39;00m isComplexType(t) \u001b[38;5;28;01melse\u001b[39;00m \u001b[38;5;124m'\u001b[39m\u001b[38;5;124md->d\u001b[39m\u001b[38;5;124m'\u001b[39m\n\u001b[1;32m    606\u001b[0m \u001b[38;5;28;01mwith\u001b[39;00m errstate(call\u001b[38;5;241m=\u001b[39m_raise_linalgerror_singular, invalid\u001b[38;5;241m=\u001b[39m\u001b[38;5;124m'\u001b[39m\u001b[38;5;124mcall\u001b[39m\u001b[38;5;124m'\u001b[39m,\n\u001b[1;32m    607\u001b[0m               over\u001b[38;5;241m=\u001b[39m\u001b[38;5;124m'\u001b[39m\u001b[38;5;124mignore\u001b[39m\u001b[38;5;124m'\u001b[39m, divide\u001b[38;5;241m=\u001b[39m\u001b[38;5;124m'\u001b[39m\u001b[38;5;124mignore\u001b[39m\u001b[38;5;124m'\u001b[39m, under\u001b[38;5;241m=\u001b[39m\u001b[38;5;124m'\u001b[39m\u001b[38;5;124mignore\u001b[39m\u001b[38;5;124m'\u001b[39m):\n\u001b[0;32m--> 608\u001b[0m     ainv \u001b[38;5;241m=\u001b[39m \u001b[43m_umath_linalg\u001b[49m\u001b[38;5;241;43m.\u001b[39;49m\u001b[43minv\u001b[49m\u001b[43m(\u001b[49m\u001b[43ma\u001b[49m\u001b[43m,\u001b[49m\u001b[43m \u001b[49m\u001b[43msignature\u001b[49m\u001b[38;5;241;43m=\u001b[39;49m\u001b[43msignature\u001b[49m\u001b[43m)\u001b[49m\n\u001b[1;32m    609\u001b[0m \u001b[38;5;28;01mreturn\u001b[39;00m wrap(ainv\u001b[38;5;241m.\u001b[39mastype(result_t, copy\u001b[38;5;241m=\u001b[39m\u001b[38;5;28;01mFalse\u001b[39;00m))\n",
      "File \u001b[0;32m~/.local/lib/python3.10/site-packages/numpy/linalg/_linalg.py:104\u001b[0m, in \u001b[0;36m_raise_linalgerror_singular\u001b[0;34m(err, flag)\u001b[0m\n\u001b[1;32m    103\u001b[0m \u001b[38;5;28;01mdef\u001b[39;00m \u001b[38;5;21m_raise_linalgerror_singular\u001b[39m(err, flag):\n\u001b[0;32m--> 104\u001b[0m     \u001b[38;5;28;01mraise\u001b[39;00m LinAlgError(\u001b[38;5;124m\"\u001b[39m\u001b[38;5;124mSingular matrix\u001b[39m\u001b[38;5;124m\"\u001b[39m)\n",
      "\u001b[0;31mLinAlgError\u001b[0m: Singular matrix"
     ]
    }
   ],
   "source": [
    "# Encontrar os coeficientes da regressão linear usando a equação normal\n",
    "X_T = X_ones.transpose()\n",
    "XTX = np.matmul(X_T, X_ones)\n",
    "XTy = np.matmul(X_T, y)\n",
    "\n",
    "inv_XTX = np.linalg.inv(XTX)\n",
    "theta = np.matmul(inv_XTX, XTy)\n",
    "print(\"\\nCoeficientes (w0, w1, w2, w3):\", theta)"
   ]
  },
  {
   "cell_type": "markdown",
   "id": "abab961d",
   "metadata": {},
   "source": [
    "O erro fez com que Enzo notasse que, pelo fato de a nova coluna de features ser idêntica a uma já existente, a matriz X^T*X tornou-se singular.\n",
    "\n",
    "Ou seja, por causa da dependência linear entre as colunas de X, o determinante da matriz se tornou nulo."
   ]
  },
  {
   "cell_type": "code",
   "execution_count": 6,
   "id": "8ff1c37a",
   "metadata": {},
   "outputs": [
    {
     "data": {
      "text/plain": [
       "np.float64(0.0)"
      ]
     },
     "execution_count": 6,
     "metadata": {},
     "output_type": "execute_result"
    }
   ],
   "source": [
    "np.linalg.det(XTX)"
   ]
  },
  {
   "cell_type": "markdown",
   "id": "1f3e0a55",
   "metadata": {},
   "source": [
    "Enzo, no entanto, era um aplicado aluno de Machine Learning no Insper e se lembrou do método de regularização _ridge_.\n",
    "\n",
    "Ao somar um termo de penalidade proporcional à norma euclidiana dos coeficientes, a regularização _ridge_ garante uma equação normal não singular."
   ]
  },
  {
   "cell_type": "code",
   "execution_count": 8,
   "id": "4a77ca6c",
   "metadata": {},
   "outputs": [
    {
     "name": "stdout",
     "output_type": "stream",
     "text": [
      "Coeficientes (w0, w1, w2, w3): [1.40480769 1.10576923 2.16346154 1.10576923]\n"
     ]
    }
   ],
   "source": [
    "# Usando ridge regression\n",
    "alpha = 1.0 # Hiperparâmetro de regularização\n",
    "\n",
    "# Equação normal regularizada\n",
    "X_T = X_ones.transpose()\n",
    "XTX = np.matmul(X_T, X_ones)\n",
    "XTy = np.matmul(X_T, y)\n",
    "\n",
    "I = np.eye(XTX.shape[0])\n",
    "XTX_reg = XTX + alpha * I # Modificação aqui\n",
    "inv_XTX_reg = np.linalg.inv(XTX_reg)\n",
    "theta_ridge = np.matmul(inv_XTX_reg, XTy)\n",
    "\n",
    "print(\"Coeficientes (w0, w1, w2, w3):\", theta_ridge)"
   ]
  },
  {
   "cell_type": "markdown",
   "id": "7f5c2dab",
   "metadata": {},
   "source": [
    "Conferindo pelo modelo Ridge do sklearn."
   ]
  },
  {
   "cell_type": "code",
   "execution_count": 9,
   "id": "7bcce870",
   "metadata": {},
   "outputs": [
    {
     "name": "stdout",
     "output_type": "stream",
     "text": [
      "Coeficientes (w0, w1, w2, w3): [1.40480769 1.10576923 2.16346154 1.10576923]\n"
     ]
    }
   ],
   "source": [
    "# Usando sklearn\n",
    "from sklearn.linear_model import Ridge\n",
    "model_ridge = Ridge(alpha=1.0, fit_intercept=False)\n",
    "model_ridge.fit(X_ones, y)\n",
    "\n",
    "print(\"Coeficientes (w0, w1, w2, w3):\", model_ridge.coef_)"
   ]
  }
 ],
 "metadata": {
  "kernelspec": {
   "display_name": "Python 3",
   "language": "python",
   "name": "python3"
  },
  "language_info": {
   "codemirror_mode": {
    "name": "ipython",
    "version": 3
   },
   "file_extension": ".py",
   "mimetype": "text/x-python",
   "name": "python",
   "nbconvert_exporter": "python",
   "pygments_lexer": "ipython3",
   "version": "3.10.12"
  }
 },
 "nbformat": 4,
 "nbformat_minor": 5
}
