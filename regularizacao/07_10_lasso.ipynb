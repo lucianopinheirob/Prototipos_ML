{
 "cells": [
  {
   "cell_type": "markdown",
   "id": "6f2cfa1f",
   "metadata": {},
   "source": [
    "Gabriel Enzo trabalha na empresa ABC tools. Em um de seus processos, a temperatura y de certo equipamento só está facilmente disponível em condições controladas de operação. Sendo assim, em condições normais, a empresa precisa prever essa temperatura com base em 4 sensores distintos (x1, x2, x3 e x4).\n",
    "\n",
    "No entanto, suspeita-se que nem todos os sensores contribuem corretamente para a previsão. Assim, Gabriel Enzo é incubido com a tarefa de identificar quais sensores são os mais apropriados para a predição da temperatura.\n",
    "\n",
    "Ele, então, decide usar um modelo linear com regularização LASSO."
   ]
  },
  {
   "cell_type": "code",
   "execution_count": 49,
   "id": "3ab98306",
   "metadata": {},
   "outputs": [
    {
     "name": "stdout",
     "output_type": "stream",
     "text": [
      "Matriz X (medição dos sensores, x1, x2, x3, x4):\n",
      " [[ 0.49671415 -0.1382643   0.64768854  1.52302986]\n",
      " [-0.23415337 -0.23413696  1.57921282  0.76743473]\n",
      " [-0.46947439  0.54256004 -0.46341769 -0.46572975]\n",
      " [ 0.24196227 -1.91328024 -1.72491783 -0.56228753]\n",
      " [-1.01283112  0.31424733 -0.90802408 -1.4123037 ]\n",
      " [ 1.46564877 -0.2257763   0.0675282  -1.42474819]\n",
      " [-0.54438272  0.11092259 -1.15099358  0.37569802]\n",
      " [-0.60063869 -0.29169375 -0.60170661  1.85227818]\n",
      " [-0.01349722 -1.05771093  0.82254491 -1.22084365]\n",
      " [ 0.2088636  -1.95967012 -1.32818605  0.19686124]\n",
      " [ 0.73846658  0.17136828 -0.11564828 -0.3011037 ]\n",
      " [-1.47852199 -0.71984421 -0.46063877  1.05712223]\n",
      " [ 0.34361829 -1.76304016  0.32408397 -0.38508228]\n",
      " [-0.676922    0.61167629  1.03099952  0.93128012]\n",
      " [-0.83921752 -0.30921238  0.33126343  0.97554513]]\n",
      "\n",
      "Vetor y (temperatura medida em operação controlada):\n",
      " [ 3.79274165  5.21363403 -1.66110234 -4.04969094 -3.50597673  4.54075415\n",
      " -3.56334922 -1.70533734  3.5491311  -2.76036688  2.238407   -2.87754932\n",
      "  2.64874068  3.20854766 -0.47056828]\n"
     ]
    }
   ],
   "source": [
    "import numpy as np\n",
    "from sklearn.linear_model import Lasso\n",
    "\n",
    "np.random.seed(42)\n",
    "n = 15\n",
    "\n",
    "# Dados de 15 medições dos sensores\n",
    "X = np.random.randn(n, 4)\n",
    "X = np.round(X, 8)\n",
    "\n",
    "# Verdadeiro modelo: y = 1 + 2*x1 + 3*x3 \n",
    "theta = np.array([1, 2, 0, 3, 0])  # θ2 = θ4 = 0\n",
    "y = theta[0] + np.matmul(X, theta[1:]) + np.random.normal(0, 0.3, n) # y medido\n",
    "y = np.round(y, 8)\n",
    "\n",
    "print(\"Matriz X (medição dos sensores, x1, x2, x3, x4):\\n\", X)\n",
    "print(\"\\nVetor y (temperatura medida em operação controlada):\\n\", y)"
   ]
  },
  {
   "cell_type": "code",
   "execution_count": 50,
   "id": "78c81b92",
   "metadata": {},
   "outputs": [
    {
     "name": "stdout",
     "output_type": "stream",
     "text": [
      "Coeficientes verdadeiros: [1 2 0 3 0]\n",
      "Coeficientes estimados (LASSO): [ 0.97557271  1.81075833  0.          2.94130844 -0.        ]\n"
     ]
    }
   ],
   "source": [
    "# Treina o LASSO\n",
    "lasso = Lasso(alpha=0.1, fit_intercept=True)\n",
    "lasso.fit(X, y)\n",
    "\n",
    "print(\"Coeficientes verdadeiros:\", theta)\n",
    "print(\"Coeficientes estimados (LASSO):\", np.concatenate(([lasso.intercept_], lasso.coef_)))"
   ]
  },
  {
   "cell_type": "markdown",
   "id": "3bf91efe",
   "metadata": {},
   "source": [
    "Dessa forma, dados dos sensores 2 e 4, que não contribuem efetivamente para a predição, são automaticamente filtrados pelo modelo."
   ]
  },
  {
   "cell_type": "markdown",
   "id": "511e197b",
   "metadata": {},
   "source": [
    "Exercício alternativo, sem mostrar como y foi construído, só com dados brutos está abaixo."
   ]
  },
  {
   "cell_type": "code",
   "execution_count": null,
   "id": "633c7003",
   "metadata": {},
   "outputs": [
    {
     "name": "stdout",
     "output_type": "stream",
     "text": [
      "Coeficientes verdadeiros: [1 2 0 3 0]\n",
      "Coeficientes estimados (LASSO): [ 0.97557271  1.81075833  0.          2.94130844 -0.        ]\n"
     ]
    }
   ],
   "source": [
    "import numpy as np\n",
    "from sklearn.linear_model import Lasso\n",
    "\n",
    "np.random.seed(42)\n",
    "n = 15\n",
    "\n",
    "# Dados de 15 medições dos sensores\n",
    "X = np.array([\n",
    " [ 0.49671415, -0.1382643,   0.64768854,  1.52302986],\n",
    " [-0.23415337, -0.23413696,  1.57921282,  0.76743473],\n",
    " [-0.46947439,  0.54256004, -0.46341769, -0.46572975],\n",
    " [ 0.24196227, -1.91328024, -1.72491783, -0.56228753],\n",
    " [-1.01283112,  0.31424733, -0.90802408, -1.4123037 ],\n",
    " [ 1.46564877, -0.2257763,   0.0675282,  -1.42474819],\n",
    " [-0.54438272,  0.11092259, -1.15099358,  0.37569802],\n",
    " [-0.60063869, -0.29169375, -0.60170661,  1.85227818],\n",
    " [-0.01349722, -1.05771093,  0.82254491, -1.22084365],\n",
    " [ 0.2088636,  -1.95967012, -1.32818605,  0.19686124],\n",
    " [ 0.73846658,  0.17136828, -0.11564828, -0.3011037 ],\n",
    " [-1.47852199, -0.71984421, -0.46063877,  1.05712223],\n",
    " [ 0.34361829, -1.76304016,  0.32408397, -0.38508228],\n",
    " [-0.676922,    0.61167629,  1.03099952,  0.93128012],\n",
    " [-0.83921752, -0.30921238,  0.33126343,  0.97554513]\n",
    "])\n",
    "\n",
    "# Temperatura y medida em operação controlada\n",
    "y = np.array([\n",
    "  3.79274165,  5.21363403, -1.66110234, -4.04969094, -3.50597673,\n",
    "  4.54075415, -3.56334922, -1.70533734,  3.5491311,  -2.76036688,\n",
    "  2.238407,   -2.87754932,  2.64874068,  3.20854766, -0.47056828\n",
    "])  \n",
    "\n",
    "# Treina o LASSO\n",
    "lasso = Lasso(alpha=0.1, fit_intercept=True)\n",
    "lasso.fit(X, y)\n",
    "\n",
    "print(\"Coeficientes estimados (LASSO):\", np.concatenate(([lasso.intercept_], lasso.coef_)))"
   ]
  },
  {
   "cell_type": "code",
   "execution_count": 25,
   "id": "c6aab06e",
   "metadata": {},
   "outputs": [
    {
     "name": "stdout",
     "output_type": "stream",
     "text": [
      "Coeficientes verdadeiros: [1 2 0 3 0]\n",
      "Coeficientes estimados (LASSO): [ 1.23605044e+01 -1.15233049e+00 -2.59636721e+00 -1.00122376e-02\n",
      " -4.97922956e-02]\n"
     ]
    }
   ],
   "source": [
    "# Treina o LASSO\n",
    "lasso = Lasso(alpha=0.1, fit_intercept=True)\n",
    "lasso.fit(X, y)\n",
    "\n",
    "print(\"Coeficientes verdadeiros:\", theta)\n",
    "print(\"Coeficientes estimados (LASSO):\", np.concatenate(([lasso.intercept_], lasso.coef_)))"
   ]
  }
 ],
 "metadata": {
  "kernelspec": {
   "display_name": "Python 3",
   "language": "python",
   "name": "python3"
  },
  "language_info": {
   "codemirror_mode": {
    "name": "ipython",
    "version": 3
   },
   "file_extension": ".py",
   "mimetype": "text/x-python",
   "name": "python",
   "nbconvert_exporter": "python",
   "pygments_lexer": "ipython3",
   "version": "3.10.12"
  }
 },
 "nbformat": 4,
 "nbformat_minor": 5
}
