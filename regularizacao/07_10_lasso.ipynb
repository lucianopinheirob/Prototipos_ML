{
 "cells": [
  {
   "cell_type": "markdown",
   "id": "6f2cfa1f",
   "metadata": {},
   "source": [
    "Gabriel Enzo trabalha na empresa ABC tools. Em um de seus processos, a temperatura y de certo equipamento só está facilmente disponível em condições controladas de operação. Sendo assim, em condições normais, a empresa precisa prever essa temperatura com base em 4 sensores distintos (x1, x2, x3 e x4).\n",
    "\n",
    "No entanto, suspeita-se que nem todos os sensores contribuem corretamente para a previsão. Assim, Gabriel Enzo é incubido com a tarefa de identificar quais sensores são os mais apropriados para a predição da temperatura.\n",
    "\n",
    "Ele, então, decide usar um modelo linear com regularização LASSO."
   ]
  },
  {
   "cell_type": "code",
   "execution_count": 11,
   "id": "3ab98306",
   "metadata": {},
   "outputs": [
    {
     "name": "stdout",
     "output_type": "stream",
     "text": [
      "10 primeiras amostras da Matriz X (medição dos sensores, x1, x2, x3, x4):\n",
      " [[ 0.49671415 -0.1382643   0.64768854  1.52302986]\n",
      " [-0.23415337 -0.23413696  1.57921282  0.76743473]\n",
      " [-0.46947439  0.54256004 -0.46341769 -0.46572975]\n",
      " [ 0.24196227 -1.91328024 -1.72491783 -0.56228753]\n",
      " [-1.01283112  0.31424733 -0.90802408 -1.4123037 ]\n",
      " [ 1.46564877 -0.2257763   0.0675282  -1.42474819]\n",
      " [-0.54438272  0.11092259 -1.15099358  0.37569802]\n",
      " [-0.60063869 -0.29169375 -0.60170661  1.85227818]\n",
      " [-0.01349722 -1.05771093  0.82254491 -1.22084365]\n",
      " [ 0.2088636  -1.95967012 -1.32818605  0.19686124]]\n",
      "\n",
      "10 primeiras amostras do Vetor y (temperatura medida em operação controlada):\n",
      " [ 3.45816562  5.08951919 -1.32762874 -3.67673478 -3.88475411  4.32073713\n",
      " -3.86203231 -2.04911106  3.47672898 -2.41249931]\n"
     ]
    }
   ],
   "source": [
    "import numpy as np\n",
    "from sklearn.linear_model import Lasso\n",
    "\n",
    "np.random.seed(42)\n",
    "n = 100\n",
    "\n",
    "# Dados de 100 medições dos sensores\n",
    "X = np.random.randn(n, 4)\n",
    "\n",
    "# Verdadeiro modelo: y = 1 + 2*x1 + 3*x3 \n",
    "theta = np.array([1, 2, 0, 3, 0])  # θ2 = θ4 = 0\n",
    "y = theta[0] + np.matmul(X, theta[1:]) + np.random.normal(0, 0.3, n) # y medido\n",
    "\n",
    "print(\"10 primeiras amostras da Matriz X (medição dos sensores, x1, x2, x3, x4):\\n\", X[:10])\n",
    "print(\"\\n10 primeiras amostras do Vetor y (temperatura medida em operação controlada):\\n\", y[:10])"
   ]
  },
  {
   "cell_type": "code",
   "execution_count": 12,
   "id": "78c81b92",
   "metadata": {},
   "outputs": [
    {
     "name": "stdout",
     "output_type": "stream",
     "text": [
      "Coeficientes verdadeiros: [1 2 0 3 0]\n",
      "Coeficientes estimados (LASSO): [ 0.98358497  1.88145938  0.          2.93112715 -0.        ]\n"
     ]
    }
   ],
   "source": [
    "# Treina o LASSO\n",
    "lasso = Lasso(alpha=0.1, fit_intercept=True)\n",
    "lasso.fit(X, y)\n",
    "\n",
    "print(\"Coeficientes verdadeiros:\", theta)\n",
    "print(\"Coeficientes estimados (LASSO):\", np.concatenate(([lasso.intercept_], lasso.coef_)))"
   ]
  },
  {
   "cell_type": "markdown",
   "id": "3bf91efe",
   "metadata": {},
   "source": [
    "Dessa forma, dados dos sensores 2 e 4, que não contribuem efetivamente para a predição, são automaticamente filtrados pelo modelo."
   ]
  }
 ],
 "metadata": {
  "kernelspec": {
   "display_name": "Python 3",
   "language": "python",
   "name": "python3"
  },
  "language_info": {
   "codemirror_mode": {
    "name": "ipython",
    "version": 3
   },
   "file_extension": ".py",
   "mimetype": "text/x-python",
   "name": "python",
   "nbconvert_exporter": "python",
   "pygments_lexer": "ipython3",
   "version": "3.10.12"
  }
 },
 "nbformat": 4,
 "nbformat_minor": 5
}
